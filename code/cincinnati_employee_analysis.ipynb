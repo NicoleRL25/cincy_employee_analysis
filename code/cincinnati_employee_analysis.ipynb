{
 "cells": [
  {
   "cell_type": "code",
   "execution_count": 1,
   "metadata": {},
   "outputs": [],
   "source": [
    "import data_cleaning as dc\n",
    "import plots\n",
    "import statsmodels.api as sm\n",
    "\n",
    "emps=dc.get_cleaned_emp_list()\n",
    "data=dc.get_data_for_plots(emps)"
   ]
  },
  {
   "cell_type": "markdown",
   "metadata": {},
   "source": [
    "# Cincinnati Employee Snapshot\n",
    "\n",
    "Gender Representation\n",
    "- Women in the workforce\n",
    "- Women in Protective Services\n",
    "- Women in Leadership\n",
    "\n",
    "Racial Representation\n",
    "- Workforce\n",
    "- Protective Services\n",
    "- Leadership\n",
    "\n",
    "Age Representation\n",
    "- Is there a need for knowledge transfer in specific areas? More people nearing retirement age\n"
   ]
  },
  {
   "cell_type": "markdown",
   "metadata": {},
   "source": [
    "![employee_snapshot](../images/output/employee_snapshot.png)"
   ]
  },
  {
   "cell_type": "markdown",
   "metadata": {},
   "source": [
    "## Gender Representation\n",
    "\n",
    "<img align=\"right\" src='..\\images\\output\\protective_services_vs_general_gender.png'>\n",
    "\n",
    "According to the US Census Bureau's American Community Survey, Cincinnati is approximately 51% female. However, women only make up 37% of the municpal workforce. While this discrepancy stands out, it's important to note that 29% of the city's employees are Protective Service Workers which is primarily made up of police officers and fire fighters and these roles are predominantly held by men even at the national level. When Protective Service Workers are excluded, the representation of women in the general workforce increases to 46%.\n",
    "\n",
    "### General Workforce\n",
    "Of the 4,440 employees in the General Workforce, 2,055 are women. A one-sample z-test was conducted to test whether the proportion of women in the city's general workforce is greater than or equal to what we're seeing in the community at large. The results were significant with a z-value of -6.30 and a p value <0.05. We reject the null hypothesis that the proportion of women in the general municipal workforce is equal to or greater than that of the city itself.\n",
    "\n",
    "\n",
    "```python\n",
    "#Z-test of women in the workforce\n",
    "women_in_general_workforce=data['pro_vs_general_gender'].loc['General Workforce','Female']\n",
    "general_workforce=data['pro_vs_general_gender'].loc['General Workforce'].sum()\n",
    "null_hypothesis=0.51\n",
    "print(sm.stats.proportions_ztest(women_in_general_workforce,general_workforce,null_hypothesis,'smaller'))\n",
    "\n",
    "(-6.3025755103471495, 1.463699196636838e-10)\n",
    "```   \n",
    "\n",
    "### Women in Policing\n",
    "There are 1,000 police officers employed by the city, and 230 of them are women who hold positions from Police Officer to Police Captain.  According to the Bureau of Justice Statistics, the national average for sworn women police offers in county and city departments is approximately 13%.  Using a one-sample z-test, we assess whether the proportion of women in the city's police department is less than or equal to the national average of women in policing. The results were significant with a z-value of 7.51 and a p value <0.05. We reject the null hypothesis that the proportion of women in Cincinnati's police department is less than or equal to the national average.\n",
    "\n",
    "```python\n",
    "#Z-test of women in policing\n",
    "women_in_policing=data['gender_police_fire'].loc['Police','Female']\n",
    "police_force=data['gender_police_fire'].loc['Police'].sum()\n",
    "null_hypothesis=0.13\n",
    "print(sm.stats.proportions_ztest(women_in_policing,police_force,null_hypothesis,'larger'))\n",
    "\n",
    "(7.514337885441285, 2.859983971325954e-14)\n",
    "\n",
    "```\n",
    "\n",
    "### Women in the Fire Department\n",
    "While the number of women in the Police Department is well into the double digits, we see lower employment rates of women in the Fire Deparment.  Only 49 of the 801 Fire Fighters in the city are women. Using data from the National Fire Protection Association, we learn that nationally only 8% of fire fighters are women.  We hypothesize that the proportion of women in the Fire Department is greater than or equal to the national average. The results were significant with a z-value of -2.22 and a p value <0.05. \n",
    "\n",
    "```python\n",
    "\n",
    "#Z-test of women in fire departments\n",
    "women_fire_fighters=data['gender_police_fire'].loc['Fire Department','Female']\n",
    "fire_department=data['gender_police_fire'].loc['Fire Department'].sum()\n",
    "null_hypothesis=0.08\n",
    "print(sm.stats.proportions_ztest(women_fire_fighters,fire_department,null_hypothesis,'smaller'))\n",
    "\n",
    "\n",
    "(-2.2233643575525552, 0.013095620529943387)\n",
    "```\n",
    "\n",
    "<img align=\"left\" src='..\\images\\output\\leader_gender.png'>\n",
    "\n",
    "### Women in Leadership\n",
    "Officials and Administrators are responsible for setting and enacting policies or for maintaining general oversight of a department or an agency. Individuals holding these roles would be equivalent to senior management in a business or corporation. Typically, women are not represented equally when it comes to leadership roles. In Cincinnati, 106 female and 145 male employees respectively are listed as Officials and Administrators. A two sample z-test was conducted to see if women in the city's leadership roles are represented at a rate greater than or equal to men. Based on the results, we fail to reject the null hypothesis with a z-value of 1.61 and a p value> 0.05. Although the results, are not statistically significant, the 15% gap in representation between men and women at the senior leadership level is still meaningful.\n",
    "\n",
    "\n",
    "\n",
    "\n",
    "```python\n",
    "#z-test comparing women and men in leadership\n",
    "leaders=data['leaders_by_gender']['Leadership']\n",
    "emp_count=data['leaders_by_gender'].sum(axis=1)\n",
    "\n",
    "print(sm.stats.proportions_ztest(leaders,emp_count,0,'smaller'))\n",
    "\n",
    "(1.6126328668507695, 0.9465878532344753)\n",
    "\n",
    "```"
   ]
  },
  {
   "cell_type": "markdown",
   "metadata": {},
   "source": [
    "[note 1] Lynn Langton, Women in Law Enforcement, 1987-2008, Crime Data Brief, Washington, DC: U.S. Department of Justice, Bureau of Justice Statistics, 2010.\n",
    "\n",
    "https://www.eeoc.gov/employers/eeoc-form-164-state-and-local-government-information-eeo-4-instruction-booklet"
   ]
  },
  {
   "cell_type": "markdown",
   "metadata": {},
   "source": [
    "\n",
    "### Women in Protective Service Jobs\n",
    "According to the National Fire Protection Association, 8% of Firefighters are women\n",
    "According to the National Fire Protection Association( [^1]: https://www.nfpa.org/News-and-Research/Data-research-and-tools/Emergency-Responders/US-fire-department-profile#:~:text=In%202018%2C%2093%2C700%20(8%25),total%20number%20of%20volunteer%20firefighters)"
   ]
  },
  {
   "cell_type": "code",
   "execution_count": null,
   "metadata": {},
   "outputs": [],
   "source": []
  }
 ],
 "metadata": {
  "kernelspec": {
   "display_name": "Python 3",
   "language": "python",
   "name": "python3"
  },
  "language_info": {
   "codemirror_mode": {
    "name": "ipython",
    "version": 3
   },
   "file_extension": ".py",
   "mimetype": "text/x-python",
   "name": "python",
   "nbconvert_exporter": "python",
   "pygments_lexer": "ipython3",
   "version": "3.8.5"
  }
 },
 "nbformat": 4,
 "nbformat_minor": 2
}
